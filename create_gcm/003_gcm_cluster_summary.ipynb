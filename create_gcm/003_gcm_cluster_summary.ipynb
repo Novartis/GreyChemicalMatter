{
 "cells": [
  {
   "cell_type": "markdown",
   "metadata": {},
   "source": [
    "## Calculate GCM cluster summaries. \n",
    "* Summarize selectivity profile of enriched and not enriched assays for each chemcial cluster \n",
    "* Conclude if assay profile qualifies for GCM or not"
   ]
  },
  {
   "cell_type": "code",
   "execution_count": null,
   "metadata": {},
   "outputs": [],
   "source": [
    "import sqlite3 \n",
    "import pandas as pd\n",
    "import glob\n",
    "import os"
   ]
  },
  {
   "cell_type": "code",
   "execution_count": null,
   "metadata": {
    "tags": []
   },
   "outputs": [],
   "source": [
    "conn = sqlite3.connect('../pubchem_gcm.db')"
   ]
  },
  {
   "cell_type": "markdown",
   "metadata": {},
   "source": [
    "### GCM cluster summaries "
   ]
  },
  {
   "cell_type": "code",
   "execution_count": null,
   "metadata": {
    "tags": []
   },
   "outputs": [],
   "source": [
    "df = pd.read_sql(\"\"\"\n",
    "\n",
    "     WITH gcm_cluster_num_assays AS (\n",
    "        SELECT a.gcm_cluster, a.cluster_size, a.max_cpds_tested, COUNT(DISTINCT a.aid) AS num_assays\n",
    "        FROM gcm_cluster_assay_stat a\n",
    "        WHERE a.assay_qualified_for_profile = 'yes' \n",
    "        GROUP BY a.gcm_cluster, a.cluster_size, a.max_cpds_tested\n",
    "    ),\n",
    "    gcm_cluster_num_assays_enriched AS (\n",
    "        SELECT a.gcm_cluster, COUNT(DISTINCT a.aid) AS num_assays_enriched\n",
    "        FROM gcm_cluster_assay_stat a\n",
    "        WHERE a.assay_qualified_for_profile = 'yes' \n",
    "        AND a.adj_p_val < 0.1 \n",
    "        GROUP BY a.gcm_cluster\n",
    "    ),\n",
    "    gcm_cluster_num_assays_enriched_up AS (\n",
    "        SELECT a.gcm_cluster, COUNT(DISTINCT a.aid) AS num_assays_enriched_up\n",
    "        FROM gcm_cluster_assay_stat a\n",
    "        WHERE a.assay_qualified_for_profile = 'yes' \n",
    "        AND a.adj_p_val < 0.1 \n",
    "        AND a.act_dir = 1\n",
    "        GROUP BY a.gcm_cluster\n",
    "    ),\n",
    "    gcm_cluster_num_assays_enriched_down AS (\n",
    "        SELECT a.gcm_cluster, COUNT(DISTINCT a.aid) AS num_assays_enriched_down\n",
    "        FROM gcm_cluster_assay_stat a\n",
    "        WHERE a.assay_qualified_for_profile = 'yes' \n",
    "        AND a.adj_p_val < 0.1 \n",
    "        AND a.act_dir = -1\n",
    "        GROUP BY a.gcm_cluster\n",
    "    ),\n",
    "    gcm_cluster_summary AS(\n",
    "        SELECT t.*, COALESCE(a.num_assays_enriched,0) AS num_assays_enriched,\n",
    "               COALESCE(1.0 * a.num_assays_enriched,0) / t.num_assays AS fract_assays_enriched,\n",
    "               COALESCE(a.num_assays_enriched_up,0) AS num_assays_enriched_up,\n",
    "               COALESCE(a.num_assays_enriched_down,0) AS num_assays_enriched_down\n",
    "        FROM gcm_cluster_num_assays t\n",
    "        LEFT JOIN gcm_cluster_num_assays_enriched a USING (gcm_cluster)\n",
    "        LEFT JOIN gcm_cluster_num_assays_enriched_up a USING (gcm_cluster)\n",
    "        LEFT JOIN gcm_cluster_num_assays_enriched_down a USING (gcm_cluster)\n",
    "    )\n",
    "    SELECT g.*,\n",
    "            -- conclude if assay profile qualifies for GCM or not\n",
    "            (CASE WHEN \n",
    "                    (\n",
    "                    g.num_assays >= 10 \n",
    "                    AND g.num_assays_enriched > 0\n",
    "                    AND g.fract_assays_enriched < 0.2\n",
    "                    AND g.num_assays_enriched <= 5\n",
    "                    AND g.max_cpds_tested < 200\n",
    "                    )\n",
    "                    THEN 'yes'\n",
    "                    ELSE 'no' END) AS gcm_conclusion\n",
    "    FROM gcm_cluster_summary g\n",
    "    \n",
    "\n",
    ";\"\"\", conn)"
   ]
  },
  {
   "cell_type": "code",
   "execution_count": null,
   "metadata": {
    "tags": []
   },
   "outputs": [],
   "source": [
    "df.shape"
   ]
  },
  {
   "cell_type": "code",
   "execution_count": null,
   "metadata": {
    "tags": []
   },
   "outputs": [],
   "source": [
    "df.to_csv('gcm_cluster_summary.csv', index=False)"
   ]
  },
  {
   "cell_type": "code",
   "execution_count": null,
   "metadata": {},
   "outputs": [],
   "source": [
    "df = pd.read_csv('gcm_cluster_summary.csv', low_memory=False)"
   ]
  },
  {
   "cell_type": "code",
   "execution_count": null,
   "metadata": {},
   "outputs": [],
   "source": []
  },
  {
   "cell_type": "markdown",
   "metadata": {},
   "source": [
    "### Upload cluster summaries"
   ]
  },
  {
   "cell_type": "code",
   "execution_count": null,
   "metadata": {},
   "outputs": [],
   "source": [
    "conn.execute('''DROP TABLE IF EXISTS gcm_cluster_summary;''')\n",
    "\n",
    "conn.execute('''\n",
    "CREATE TABLE gcm_cluster_summary(\n",
    "        gcm_cluster INT,\n",
    "        cluster_size INT,\n",
    "        max_cpds_tested INT,\n",
    "        num_assays INT,\n",
    "        num_assays_enriched INT,\n",
    "        fract_assays_enriched REAL,\n",
    "        num_assays_enriched_up INT,\n",
    "        num_assays_enriched_down INT,\n",
    "        gcm_conclusion TEXT,\n",
    "        PRIMARY KEY(gcm_cluster)\n",
    "         );\n",
    "         ''')"
   ]
  },
  {
   "cell_type": "code",
   "execution_count": null,
   "metadata": {},
   "outputs": [],
   "source": [
    "df.to_sql('gcm_cluster_summary', conn, if_exists='append', index=False) "
   ]
  },
  {
   "cell_type": "code",
   "execution_count": null,
   "metadata": {},
   "outputs": [],
   "source": [
    "conn.close()"
   ]
  },
  {
   "cell_type": "code",
   "execution_count": null,
   "metadata": {},
   "outputs": [],
   "source": []
  }
 ],
 "metadata": {
  "kernelspec": {
   "display_name": "PythonDS v0.8 SR",
   "language": "python",
   "name": "pythonds_v0.8_sr"
  },
  "language_info": {
   "codemirror_mode": {
    "name": "ipython",
    "version": 3
   },
   "file_extension": ".py",
   "mimetype": "text/x-python",
   "name": "python",
   "nbconvert_exporter": "python",
   "pygments_lexer": "ipython3",
   "version": "3.7.7"
  }
 },
 "nbformat": 4,
 "nbformat_minor": 4
}
