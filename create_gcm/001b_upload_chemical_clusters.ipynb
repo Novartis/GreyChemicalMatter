{
 "cells": [
  {
   "cell_type": "markdown",
   "metadata": {
    "tags": []
   },
   "source": [
    "## Read and upload chemical clustering of PubChem cids\n",
    "* clustering was done outside of this script using morgan2 fingerprints from rdkit with tanimoto cutoff of 0.5 and mcl clustering with perplexity of 1.8\n",
    "* In general any clustering method should work here which will result in relatively granular clusters, i.e. which will not join compounds together that would not be considered to belong together, so that one can take automated decisions per cluster without risk of mixing the profiles / MoAs of multiple chemotypes "
   ]
  },
  {
   "cell_type": "code",
   "execution_count": null,
   "metadata": {},
   "outputs": [],
   "source": [
    "import sqlite3 \n",
    "import pandas as pd\n",
    "import glob\n",
    "import os"
   ]
  },
  {
   "cell_type": "code",
   "execution_count": null,
   "metadata": {},
   "outputs": [],
   "source": [
    "df = pd.read_csv(\"pubchem_cids.chemfp_1.8_clusters.csv\")"
   ]
  },
  {
   "cell_type": "code",
   "execution_count": null,
   "metadata": {},
   "outputs": [],
   "source": [
    "conn = sqlite3.connect('../pubchem_gcm.db')"
   ]
  },
  {
   "cell_type": "code",
   "execution_count": null,
   "metadata": {},
   "outputs": [],
   "source": [
    "conn.execute('''DROP TABLE IF EXISTS gcm_clusters;''')\n",
    "\n",
    "# create table with keys before and add via pandas\n",
    "conn.execute('''\n",
    "CREATE TABLE gcm_clusters(\n",
    "         inchi_key INT,\n",
    "         gcm_cluster INT,\n",
    "         cluster_size INT,\n",
    "         cid INT,\n",
    "         smiles TEXT,\n",
    "         PRIMARY KEY(gcm_cluster, cid)\n",
    "         );\n",
    "         ''')"
   ]
  },
  {
   "cell_type": "code",
   "execution_count": null,
   "metadata": {},
   "outputs": [],
   "source": [
    "df.to_sql('gcm_clusters', conn, if_exists='append', index=False) "
   ]
  },
  {
   "cell_type": "code",
   "execution_count": null,
   "metadata": {
    "tags": []
   },
   "outputs": [],
   "source": [
    "conn.execute('''CREATE INDEX gcm_cluster_cid_index ON gcm_clusters (cid);''')"
   ]
  },
  {
   "cell_type": "code",
   "execution_count": null,
   "metadata": {},
   "outputs": [],
   "source": []
  },
  {
   "cell_type": "markdown",
   "metadata": {},
   "source": [
    "### stats"
   ]
  },
  {
   "cell_type": "code",
   "execution_count": null,
   "metadata": {},
   "outputs": [],
   "source": [
    "pd.read_sql('select count (*) from gcm_clusters ', conn)"
   ]
  },
  {
   "cell_type": "code",
   "execution_count": null,
   "metadata": {},
   "outputs": [],
   "source": []
  },
  {
   "cell_type": "code",
   "execution_count": null,
   "metadata": {
    "tags": []
   },
   "outputs": [],
   "source": [
    "conn.close()"
   ]
  }
 ],
 "metadata": {
  "kernelspec": {
   "display_name": "PythonDS v1.2",
   "language": "python",
   "name": "py_v1.2"
  },
  "language_info": {
   "codemirror_mode": {
    "name": "ipython",
    "version": 3
   },
   "file_extension": ".py",
   "mimetype": "text/x-python",
   "name": "python",
   "nbconvert_exporter": "python",
   "pygments_lexer": "ipython3",
   "version": "3.8.15"
  }
 },
 "nbformat": 4,
 "nbformat_minor": 4
}
