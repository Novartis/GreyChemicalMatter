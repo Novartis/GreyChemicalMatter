{
 "cells": [
  {
   "cell_type": "markdown",
   "metadata": {},
   "source": [
    "## Calculate compound level GCM scores\n",
    "The score quantifies how much each compound of a GCM cluster matches the cluster assay enrichment profile.\n",
    "The score has two contributions:\n",
    "* rscore mean in the enriched assays in the enriched direction - how much activity is observed in the desired profile\n",
    "* rscore mean over all assays - counter measure to deprioritize broadly unselective compounds\n",
    "* compounds are only considered active if at least one assay has an absolute rscore > 3, otherwise they are considered inactive\n"
   ]
  },
  {
   "cell_type": "code",
   "execution_count": null,
   "metadata": {
    "tags": []
   },
   "outputs": [],
   "source": [
    "import sqlite3 \n",
    "import pandas as pd\n",
    "import glob\n",
    "import os"
   ]
  },
  {
   "cell_type": "code",
   "execution_count": null,
   "metadata": {
    "tags": []
   },
   "outputs": [],
   "source": [
    "conn = sqlite3.connect('../pubchem_gcm.db')"
   ]
  },
  {
   "cell_type": "markdown",
   "metadata": {},
   "source": [
    "### Calculate compound scores"
   ]
  },
  {
   "cell_type": "code",
   "execution_count": null,
   "metadata": {
    "tags": []
   },
   "outputs": [],
   "source": [
    "df = pd.read_sql(\"\"\"\n",
    "     \n",
    "    WITH rscore_mean_all AS (\n",
    "        SELECT g.cid, AVG(ABS(a.rscore)) AS rscore_mean_all\n",
    "        FROM assays a\n",
    "        JOIN gcm_clusters g ON (a.cid=g.cid)\n",
    "        JOIN gcm_cluster_assay_stat s ON (g.gcm_cluster=s.gcm_cluster AND a.AID = s.AID)\n",
    "        WHERE s.assay_qualified_for_profile = 'yes'\n",
    "        --AND g.gcm_cluster IN (523, 26610)\n",
    "        GROUP BY g.cid\n",
    "    ),\n",
    "    rscore_mean_enriched AS (\n",
    "        SELECT g.cid, AVG(a.rscore * s.act_dir) AS rscore_mean_enriched,\n",
    "            MAX(a.rscore * s.act_dir) AS rscore_x_dir_max_enriched\n",
    "        FROM assays a\n",
    "        JOIN gcm_clusters g ON (a.cid=g.cid)\n",
    "        JOIN gcm_cluster_assay_stat s ON (g.gcm_cluster=s.gcm_cluster AND a.AID = s.AID)\n",
    "        WHERE s.assay_qualified_for_profile = 'yes'\n",
    "        AND s.adj_p_val < 0.1\n",
    "        --AND g.gcm_cluster IN (523, 26610)\n",
    "        GROUP BY g.cid\n",
    "    ),\n",
    "    profile_scores AS (\n",
    "        SELECT a.cid, a.rscore_mean_all, COALESCE(e.rscore_mean_enriched,0) AS rscore_mean_enriched,\n",
    "           COALESCE(e.rscore_mean_enriched,0) / a.rscore_mean_all AS cpd_profile_score, e.rscore_x_dir_max_enriched,\n",
    "           CASE WHEN e.rscore_x_dir_max_enriched > 3 THEN 1.0 ELSE 0.0 END AS rscore_active\n",
    "           --CASE WHEN ABS(e.rscore_x_dir_max_enriched) > 3 THEN 1.0 ELSE 0.0 END AS rscore_active\n",
    "        FROM rscore_mean_all a \n",
    "        LEFT JOIN rscore_mean_enriched e ON (a.cid=e.cid)\n",
    "    )\n",
    "    SELECT g.*, p.rscore_mean_all, p.rscore_mean_enriched, p.cpd_profile_score,\n",
    "           --DENSE_RANK() OVER (PARTITION BY g.gcm_cluster ORDER BY p.cpd_profile_score * p.rscore_active DESC) AS cpd_profile_score_rank,\n",
    "           --ROW_NUMBER() OVER (PARTITION BY g.gcm_cluster ORDER BY p.cpd_profile_score * p.rscore_active DESC) AS cpd_profile_score_rank,\n",
    "           --ROW_NUMBER() OVER (PARTITION BY g.gcm_cluster ORDER BY COALESCE (p.rscore_active, p.cpd_profile_score) DESC) AS cpd_profile_score_rank,\n",
    "           ROW_NUMBER() OVER (PARTITION BY g.gcm_cluster ORDER BY p.rscore_active DESC, p.cpd_profile_score DESC) AS cpd_profile_score_rank,\n",
    "           p.rscore_x_dir_max_enriched, p.rscore_active\n",
    "    FROM gcm_clusters g\n",
    "    JOIN profile_scores p ON (g.cid=p.cid)\n",
    "    --WHERE g.gcm_cluster IN (523, 26610)\n",
    "\n",
    ";\"\"\", conn)"
   ]
  },
  {
   "cell_type": "code",
   "execution_count": null,
   "metadata": {
    "tags": []
   },
   "outputs": [],
   "source": [
    "df.to_csv('gcm_cpd_profile_scores.csv', index=False)"
   ]
  },
  {
   "cell_type": "code",
   "execution_count": null,
   "metadata": {},
   "outputs": [],
   "source": []
  },
  {
   "cell_type": "code",
   "execution_count": null,
   "metadata": {},
   "outputs": [],
   "source": []
  },
  {
   "cell_type": "code",
   "execution_count": null,
   "metadata": {
    "tags": []
   },
   "outputs": [],
   "source": [
    "df = pd.read_csv('gcm_cpd_profile_scores.csv')"
   ]
  },
  {
   "cell_type": "code",
   "execution_count": null,
   "metadata": {
    "tags": []
   },
   "outputs": [],
   "source": [
    "df.shape"
   ]
  },
  {
   "cell_type": "code",
   "execution_count": null,
   "metadata": {},
   "outputs": [],
   "source": []
  },
  {
   "cell_type": "code",
   "execution_count": null,
   "metadata": {
    "tags": []
   },
   "outputs": [],
   "source": [
    "conn.execute('''DROP TABLE IF EXISTS gcm_cpds_scores;''')\n",
    "\n",
    "conn.execute('''\n",
    "CREATE TABLE gcm_cpds_scores(\n",
    "        inchi_key TEXT,\n",
    "        gcm_cluster INT,\n",
    "        cluster_size INT,\n",
    "        cid INT,\n",
    "        smiles TEXT,\n",
    "        rscore_mean_all REAL,\n",
    "        rscore_mean_enriched REAL,\n",
    "        cpd_profile_score REAL,\n",
    "        cpd_profile_score_rank INT,\n",
    "        rscore_x_dir_max_enriched REAL,\n",
    "        rscore_active REAL,\n",
    "        PRIMARY KEY(cid, gcm_cluster)\n",
    "         );\n",
    "         ''')"
   ]
  },
  {
   "cell_type": "code",
   "execution_count": null,
   "metadata": {
    "tags": []
   },
   "outputs": [],
   "source": [
    "df.to_sql('gcm_cpds_scores', conn, if_exists='append', index=False) "
   ]
  },
  {
   "cell_type": "code",
   "execution_count": null,
   "metadata": {
    "tags": []
   },
   "outputs": [],
   "source": [
    "conn.execute('''CREATE INDEX gcm_cpds_scores_gcm_cluster_index ON gcm_cpds_scores (gcm_cluster);''')"
   ]
  },
  {
   "cell_type": "code",
   "execution_count": null,
   "metadata": {},
   "outputs": [],
   "source": []
  },
  {
   "cell_type": "code",
   "execution_count": null,
   "metadata": {
    "tags": []
   },
   "outputs": [],
   "source": [
    "conn.close()"
   ]
  },
  {
   "cell_type": "code",
   "execution_count": null,
   "metadata": {},
   "outputs": [],
   "source": []
  }
 ],
 "metadata": {
  "kernelspec": {
   "display_name": "PythonDS v1.2",
   "language": "python",
   "name": "py_v1.2"
  },
  "language_info": {
   "codemirror_mode": {
    "name": "ipython",
    "version": 3
   },
   "file_extension": ".py",
   "mimetype": "text/x-python",
   "name": "python",
   "nbconvert_exporter": "python",
   "pygments_lexer": "ipython3",
   "version": "3.8.15"
  }
 },
 "nbformat": 4,
 "nbformat_minor": 4
}
