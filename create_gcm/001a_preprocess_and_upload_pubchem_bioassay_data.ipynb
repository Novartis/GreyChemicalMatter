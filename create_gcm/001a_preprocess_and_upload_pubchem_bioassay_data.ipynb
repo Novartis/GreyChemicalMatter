{
 "cells": [
  {
   "cell_type": "markdown",
   "metadata": {},
   "source": [
    "## Process and upload PubChem Assay data\n",
    "This notebook contains the following steps\n",
    "* read in all selected PubChem assays  \n",
    "* filter for assays with >10k cids  \n",
    "* calculate rscores of the activities for better comparison between asssays and call of active/inactive compounds\n"
   ]
  },
  {
   "cell_type": "code",
   "execution_count": null,
   "metadata": {
    "tags": []
   },
   "outputs": [],
   "source": [
    "import sqlite3 \n",
    "import pandas as pd\n",
    "from scipy import stats\n",
    "import glob\n",
    "import os"
   ]
  },
  {
   "cell_type": "code",
   "execution_count": null,
   "metadata": {
    "tags": []
   },
   "outputs": [],
   "source": [
    "# For rscore calculation, ensure mad is not unrealistic low - with 10 at least activity of 30% required for rscore 3\n",
    "mad_lower_bound = 10 "
   ]
  },
  {
   "cell_type": "markdown",
   "metadata": {
    "execution": {
     "iopub.execute_input": "2023-02-06T10:54:47.519752Z",
     "iopub.status.busy": "2023-02-06T10:54:47.519553Z",
     "iopub.status.idle": "2023-02-06T10:54:47.525314Z",
     "shell.execute_reply": "2023-02-06T10:54:47.524848Z",
     "shell.execute_reply.started": "2023-02-06T10:54:47.519732Z"
    },
    "tags": []
   },
   "source": [
    "### Assay data folder\n",
    "This script assumes all pubchem bioassay data was downloaded into one folder as .csv files. All files are read in and processed.\n"
   ]
  },
  {
   "cell_type": "code",
   "execution_count": null,
   "metadata": {
    "tags": []
   },
   "outputs": [],
   "source": [
    "folder_with_assay_data = '../data_cell_assays'"
   ]
  },
  {
   "cell_type": "markdown",
   "metadata": {
    "tags": []
   },
   "source": [
    "### Prepare DB"
   ]
  },
  {
   "cell_type": "code",
   "execution_count": null,
   "metadata": {
    "tags": []
   },
   "outputs": [],
   "source": [
    "conn = sqlite3.connect('../pubchem_gcm.db')"
   ]
  },
  {
   "cell_type": "code",
   "execution_count": null,
   "metadata": {
    "tags": []
   },
   "outputs": [],
   "source": [
    "conn.execute('''DROP TABLE IF EXISTS assays;''')\n",
    "\n",
    "#create table \n",
    "conn.execute('''\n",
    "CREATE TABLE assays(\n",
    "         aid INT,\n",
    "         cid INT,\n",
    "         pubchem_activity_outcome TEXT,\n",
    "         pubchem_activity_score   INT,\n",
    "         rscore REAL,\n",
    "         PRIMARY KEY(aid, cid)\n",
    "         );\n",
    "         ''')"
   ]
  },
  {
   "cell_type": "markdown",
   "metadata": {},
   "source": [
    "### Prepare and upload assay data to DB\n",
    "* filter for assays with > 10k compounds measured\n",
    "* calculate rscores of activities for better comparability between assays and definition of active compounds"
   ]
  },
  {
   "cell_type": "code",
   "execution_count": null,
   "metadata": {
    "tags": []
   },
   "outputs": [],
   "source": [
    "def prepare_and_upload_df(filename):\n",
    "    df = pd.read_csv(filename, low_memory=False, on_bad_lines='skip')\n",
    "    df = df[~ df.PUBCHEM_CID.isna()].copy() # some rows in the beginning often with metadata\n",
    "    if df.shape[0] > 10000:\n",
    "        print(\"%d compounds added\" % df.shape[0])\n",
    "        df['AID'] = filename.replace(folder_with_assay_data+'/','').replace('.concise.csv','')  \n",
    "        \n",
    "        df = df[['AID','PUBCHEM_CID','PUBCHEM_ACTIVITY_OUTCOME','PUBCHEM_ACTIVITY_SCORE']].dropna(subset=['PUBCHEM_CID','PUBCHEM_ACTIVITY_SCORE']).drop_duplicates()\n",
    "        df = df.astype({\"PUBCHEM_CID\": int})\n",
    "        df = df.rename(columns={'PUBCHEM_CID': 'cid'})\n",
    "        df = df.sort_values(by=['PUBCHEM_ACTIVITY_SCORE'],ascending=False).groupby(['cid'],as_index=False).first()\n",
    "        act_median = df['PUBCHEM_ACTIVITY_SCORE'].median()\n",
    "        act_mad = max(stats.median_abs_deviation(df['PUBCHEM_ACTIVITY_SCORE'], scale='normal', nan_policy='omit'), mad_lower_bound)\n",
    "        df['rscore'] = (df['PUBCHEM_ACTIVITY_SCORE'] - act_median) / act_mad\n",
    "        df.to_sql('assays', conn, if_exists='append', index=False) "
   ]
  },
  {
   "cell_type": "code",
   "execution_count": null,
   "metadata": {
    "tags": []
   },
   "outputs": [],
   "source": [
    "for filename in glob.glob(os.path.join(folder_with_assay_data, '*.csv')):  #[0:100]:\n",
    "    #print(filename, filename.replace('data_cell/','').replace('.concise.csv',''))\n",
    "    prepare_and_upload_df(filename)"
   ]
  },
  {
   "cell_type": "code",
   "execution_count": null,
   "metadata": {},
   "outputs": [],
   "source": []
  },
  {
   "cell_type": "code",
   "execution_count": null,
   "metadata": {
    "tags": []
   },
   "outputs": [],
   "source": [
    "conn.execute('''CREATE INDEX assay_cid_index ON assays (cid);''')"
   ]
  },
  {
   "cell_type": "code",
   "execution_count": null,
   "metadata": {},
   "outputs": [],
   "source": []
  },
  {
   "cell_type": "markdown",
   "metadata": {},
   "source": [
    "### DB stat"
   ]
  },
  {
   "cell_type": "code",
   "execution_count": null,
   "metadata": {
    "tags": []
   },
   "outputs": [],
   "source": [
    "pd.read_sql('select * from assays limit 5', conn)"
   ]
  },
  {
   "cell_type": "code",
   "execution_count": null,
   "metadata": {
    "tags": []
   },
   "outputs": [],
   "source": [
    "pd.read_sql('select count (distinct a.AID) from assays a', conn)"
   ]
  },
  {
   "cell_type": "code",
   "execution_count": null,
   "metadata": {
    "tags": []
   },
   "outputs": [],
   "source": [
    "pd.read_sql('select count (*) from assays ', conn)"
   ]
  },
  {
   "cell_type": "markdown",
   "metadata": {
    "execution": {
     "iopub.execute_input": "2023-02-06T10:45:15.738500Z",
     "iopub.status.busy": "2023-02-06T10:45:15.738303Z",
     "iopub.status.idle": "2023-02-06T10:45:15.740613Z",
     "shell.execute_reply": "2023-02-06T10:45:15.740249Z",
     "shell.execute_reply.started": "2023-02-06T10:45:15.738481Z"
    },
    "tags": []
   },
   "source": [
    "### Get distinct CIDS from the uploaded assays for clustering"
   ]
  },
  {
   "cell_type": "code",
   "execution_count": null,
   "metadata": {
    "tags": []
   },
   "outputs": [],
   "source": [
    "df_cids = pd.read_sql('select distinct a.cid from assays a', conn)"
   ]
  },
  {
   "cell_type": "code",
   "execution_count": null,
   "metadata": {},
   "outputs": [],
   "source": [
    "df_cids.shape"
   ]
  },
  {
   "cell_type": "code",
   "execution_count": null,
   "metadata": {},
   "outputs": [],
   "source": [
    "df_cids.to_csv('pubchem_cids.csv')"
   ]
  },
  {
   "cell_type": "code",
   "execution_count": null,
   "metadata": {},
   "outputs": [],
   "source": []
  },
  {
   "cell_type": "code",
   "execution_count": null,
   "metadata": {
    "tags": []
   },
   "outputs": [],
   "source": [
    "conn.close()"
   ]
  },
  {
   "cell_type": "code",
   "execution_count": null,
   "metadata": {},
   "outputs": [],
   "source": []
  },
  {
   "cell_type": "markdown",
   "metadata": {
    "tags": []
   },
   "source": [
    "### Steps outside of this repo\n",
    "* Added smiles and inchi_keys to cids\n",
    "* Clustering with chemfp rdkit morgan2 similarity (tanimoto cutoff 0.5) and mcl clustering with perplexity = 1.8 (https://www.micans.org/mcl/https://www.micans.org/mcl/)"
   ]
  },
  {
   "cell_type": "code",
   "execution_count": null,
   "metadata": {},
   "outputs": [],
   "source": []
  }
 ],
 "metadata": {
  "kernelspec": {
   "display_name": "PythonDS v1.2",
   "language": "python",
   "name": "py_v1.2"
  },
  "language_info": {
   "codemirror_mode": {
    "name": "ipython",
    "version": 3
   },
   "file_extension": ".py",
   "mimetype": "text/x-python",
   "name": "python",
   "nbconvert_exporter": "python",
   "pygments_lexer": "ipython3",
   "version": "3.8.15"
  }
 },
 "nbformat": 4,
 "nbformat_minor": 4
}
