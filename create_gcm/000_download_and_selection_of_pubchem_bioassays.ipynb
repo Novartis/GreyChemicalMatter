{
 "cells": [
  {
   "cell_type": "code",
   "execution_count": null,
   "id": "a800c8d2-b662-48cd-bfea-f2eaf9c90c8b",
   "metadata": {},
   "outputs": [],
   "source": []
  },
  {
   "cell_type": "code",
   "execution_count": null,
   "id": "6cab1ea7-2df0-4718-8d68-0381ef2c2ff6",
   "metadata": {},
   "outputs": [],
   "source": []
  },
  {
   "cell_type": "markdown",
   "id": "1b273ed6-8826-4fb9-9946-af16892a23a6",
   "metadata": {
    "execution": {
     "iopub.execute_input": "2023-02-27T11:07:41.888070Z",
     "iopub.status.busy": "2023-02-27T11:07:41.887725Z",
     "iopub.status.idle": "2023-02-27T11:07:41.890906Z",
     "shell.execute_reply": "2023-02-27T11:07:41.890414Z",
     "shell.execute_reply.started": "2023-02-27T11:07:41.888052Z"
    },
    "tags": []
   },
   "source": [
    "### Download all assay data from pubchem"
   ]
  },
  {
   "cell_type": "code",
   "execution_count": null,
   "id": "2d73ad60-2336-4725-ac32-b815fb93ebff",
   "metadata": {},
   "outputs": [],
   "source": [
    "!rsync --copy-links --recursive --times --verbose rsync://ftp.ncbi.nlm.nih.gov/pubchem/Bioassay2/Concise/CSV/Data/ data/"
   ]
  },
  {
   "cell_type": "code",
   "execution_count": null,
   "id": "aee8aed2-ea7b-4db0-be13-46dd142664c6",
   "metadata": {},
   "outputs": [],
   "source": [
    "# unzip\n",
    "!cd data\n",
    "!unzip -j '*.zip' -d .  # -j removed folder structure"
   ]
  },
  {
   "cell_type": "code",
   "execution_count": null,
   "id": "9dce7244-cf07-40cc-bc62-d7309c7f0dc3",
   "metadata": {},
   "outputs": [],
   "source": []
  },
  {
   "cell_type": "markdown",
   "id": "854ce70b-6e35-4fc9-b579-a3395eccd7b6",
   "metadata": {},
   "source": [
    "### from Pubchem BioAssay retrieve list of cell based assays\n",
    "* query PubChem BioAssay (https://pubchem.ncbi.nlm.nih.gov/) with filter set to Cell-Based assays \n",
    "* copied 3900 cellular assays into another folder for processing"
   ]
  },
  {
   "cell_type": "code",
   "execution_count": null,
   "id": "2e97ee80-b26f-4ad2-b4bf-2a0669974cbc",
   "metadata": {},
   "outputs": [],
   "source": []
  },
  {
   "cell_type": "code",
   "execution_count": null,
   "id": "726511ab-ca3d-4868-a269-8a4ef9bacce9",
   "metadata": {},
   "outputs": [],
   "source": []
  },
  {
   "cell_type": "code",
   "execution_count": null,
   "id": "db65ba0b-c955-4329-b89b-29d1e4bce12a",
   "metadata": {},
   "outputs": [],
   "source": []
  },
  {
   "cell_type": "code",
   "execution_count": null,
   "id": "685467b2-80ee-44a1-b0a8-456e47439bc7",
   "metadata": {},
   "outputs": [],
   "source": []
  },
  {
   "cell_type": "code",
   "execution_count": null,
   "id": "650b1d45-fc93-4672-be58-13e38e7979fb",
   "metadata": {},
   "outputs": [],
   "source": []
  },
  {
   "cell_type": "code",
   "execution_count": null,
   "id": "978c0961-428a-42cd-af6a-4dcb00e9bd9f",
   "metadata": {},
   "outputs": [],
   "source": []
  }
 ],
 "metadata": {
  "kernelspec": {
   "display_name": "PythonDS v1.2",
   "language": "python",
   "name": "py_v1.2"
  },
  "language_info": {
   "codemirror_mode": {
    "name": "ipython",
    "version": 3
   },
   "file_extension": ".py",
   "mimetype": "text/x-python",
   "name": "python",
   "nbconvert_exporter": "python",
   "pygments_lexer": "ipython3",
   "version": "3.8.15"
  }
 },
 "nbformat": 4,
 "nbformat_minor": 5
}
