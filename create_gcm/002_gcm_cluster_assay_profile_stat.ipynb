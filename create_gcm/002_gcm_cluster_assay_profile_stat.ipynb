{
 "cells": [
  {
   "cell_type": "markdown",
   "metadata": {},
   "source": [
    "## Calculate assay enrichment statistics for all chemical clusters\n",
    "Quantify if a chemcial cluster has a signficiant effect beyond the background hitrate on an assay or not."
   ]
  },
  {
   "cell_type": "code",
   "execution_count": null,
   "metadata": {
    "tags": []
   },
   "outputs": [],
   "source": [
    "import sqlite3 \n",
    "import pandas as pd\n",
    "import glob\n",
    "import os\n",
    "\n",
    "from scipy.stats import fisher_exact\n",
    "from statsmodels.stats.multitest import multipletests\n",
    "import numpy as np"
   ]
  },
  {
   "cell_type": "code",
   "execution_count": null,
   "metadata": {
    "tags": []
   },
   "outputs": [],
   "source": [
    "conn = sqlite3.connect('../pubchem_gcm.db')"
   ]
  },
  {
   "cell_type": "code",
   "execution_count": null,
   "metadata": {},
   "outputs": [],
   "source": []
  },
  {
   "cell_type": "markdown",
   "metadata": {},
   "source": [
    "### Calculate activitiy counts over assays\n",
    "* Calculate the numbers of actives and inactives in both assay directions for all assays\n",
    "* Calculate the same numbers for each chemcial cluster to compare if clusters contain a larger than expected number of hits for an assay / assay direction\n",
    "* Filter out assays which have less than 30% of the cluster cpds measured relative to the max amount of cpds measured by an assay to keep profiles comparable"
   ]
  },
  {
   "cell_type": "code",
   "execution_count": null,
   "metadata": {},
   "outputs": [],
   "source": []
  },
  {
   "cell_type": "code",
   "execution_count": null,
   "metadata": {
    "tags": []
   },
   "outputs": [],
   "source": [
    "df_assay_gcm_stat = pd.read_sql(\"\"\"\n",
    "\n",
    "    WITH cpds_data AS (\n",
    "        SELECT a.aid, a.cid, a.rscore, g.gcm_cluster, g.cluster_size\n",
    "        FROM  assays a\n",
    "        JOIN gcm_clusters g ON (a.cid=g.cid)\n",
    "        --WHERE g.gcm_cluster IN (7868,7869,7870) \n",
    "    ), \n",
    "    -- calculate background counts of actives and inactives per aid\n",
    "    bg_num_tested AS (\n",
    "        SELECT cpd.aid, count(*) AS bg_num_tested\n",
    "        FROM   cpds_data cpd\n",
    "        GROUP BY cpd.aid\n",
    "    ),\n",
    "    bg_num_up AS (\n",
    "        SELECT cpd.aid, count(*) AS bg_num_actives\n",
    "        FROM   cpds_data cpd\n",
    "        WHERE  cpd.rscore > 3\n",
    "        GROUP BY cpd.aid\n",
    "    ),\n",
    "    bg_num_down AS (\n",
    "        SELECT cpd.aid, count(*) AS bg_num_actives\n",
    "        FROM   cpds_data cpd\n",
    "        WHERE  cpd.rscore < -3\n",
    "        GROUP BY cpd.aid\n",
    "    ),\n",
    "    bg_stat_up AS (\n",
    "        SELECT t.*, COALESCE(u.bg_num_actives,0) AS bg_num_actives, \n",
    "                    COALESCE(t.bg_num_tested - (u.bg_num_actives),0) AS bg_num_inactives\n",
    "        FROM bg_num_tested t\n",
    "        JOIN bg_num_up u ON (t.aid=u.aid)\n",
    "    ),\n",
    "    bg_stat_down AS (\n",
    "        SELECT t.*, COALESCE(d.bg_num_actives,0) AS bg_num_actives, \n",
    "                    COALESCE(t.bg_num_tested - (d.bg_num_actives),0) AS bg_num_inactives\n",
    "        FROM bg_num_tested t\n",
    "        JOIN bg_num_down d ON (t.aid=d.aid)\n",
    "    ),\n",
    "    -- calculate actives and inactives counts per gcm cluster\n",
    "    gcm_num_tested AS (\n",
    "        SELECT cpd.aid, cpd.gcm_cluster, cpd.cluster_size, count(*) AS num_tested\n",
    "        FROM   cpds_data cpd\n",
    "        GROUP BY cpd.aid, cpd.gcm_cluster, cpd.cluster_size\n",
    "    ),\n",
    "    gcm_num_actives_up AS (\n",
    "        SELECT cpd.aid, cpd.gcm_cluster, cpd.cluster_size, count(*) AS num_actives\n",
    "        FROM   cpds_data cpd\n",
    "        WHERE  cpd.RSCORE > 3\n",
    "        GROUP BY cpd.aid, cpd.gcm_cluster, cpd.cluster_size\n",
    "    ),\n",
    "    gcm_num_actives_down AS (\n",
    "        SELECT cpd.aid, cpd.gcm_cluster, cpd.cluster_size, count(*) AS num_actives\n",
    "        FROM   cpds_data cpd\n",
    "        WHERE  cpd.RSCORE < -3\n",
    "        GROUP BY cpd.aid, cpd.gcm_cluster, cpd.cluster_size\n",
    "    ),\n",
    "    gcm_max_num_tested AS (\n",
    "        SELECT t.gcm_cluster, MAX(t.num_tested) AS max_cpds_tested\n",
    "        FROM  gcm_num_tested t\n",
    "        GROUP BY t.gcm_cluster\n",
    "    )\n",
    "    -- concatenate up and down data\n",
    "    SELECT t.aid, 'up' AS activity_direction, 1 AS act_dir,\n",
    "                t.gcm_cluster, t.cluster_size, m.max_cpds_tested, \n",
    "                t.num_tested, \n",
    "                (CASE WHEN (t.num_tested / m.max_cpds_tested) > 0.3 THEN 'yes'\n",
    "                    ELSE 'no' END) AS assay_qualified_for_profile,\n",
    "                COALESCE(a.num_actives,0) AS num_actives,  \n",
    "                t.num_tested - COALESCE(a.num_actives,0) AS num_inactives,\n",
    "                COALESCE(1.0*a.num_actives / t.num_tested ,0.0) AS fract_actives,\n",
    "                bg.bg_num_actives, bg.bg_num_inactives\n",
    "    FROM gcm_num_tested t\n",
    "    LEFT JOIN gcm_num_actives_up a ON (t.aid=a.aid AND t.gcm_cluster=a.gcm_cluster AND t.cluster_size=a.cluster_size)\n",
    "    JOIN bg_stat_up bg USING (aid)\n",
    "    JOIN gcm_max_num_tested m USING (gcm_cluster)\n",
    "    \n",
    "    UNION\n",
    "    \n",
    "    SELECT t.aid, 'down' AS activity_direction, -1 AS act_dir,\n",
    "                t.gcm_cluster, t.cluster_size, m.max_cpds_tested, \n",
    "                t.num_tested, \n",
    "                (CASE WHEN (t.num_tested / m.max_cpds_tested) > 0.3 THEN 'yes'\n",
    "                    ELSE 'no' END) AS assay_qualified_for_profile,\n",
    "                COALESCE(a.num_actives,0) AS num_actives,  \n",
    "                t.num_tested - COALESCE(a.num_actives,0) AS num_inactives,\n",
    "                COALESCE(1.0*a.num_actives / t.num_tested ,0.0) AS fract_actives,\n",
    "                bg.bg_num_actives, bg.bg_num_inactives\n",
    "    FROM gcm_num_tested t\n",
    "    LEFT JOIN gcm_num_actives_down a ON (t.aid=a.aid AND t.gcm_cluster=a.gcm_cluster AND t.cluster_size=a.cluster_size)\n",
    "    JOIN bg_stat_down bg USING (aid)\n",
    "    JOIN gcm_max_num_tested m USING (gcm_cluster)\n",
    "    \n",
    ";\"\"\", conn)"
   ]
  },
  {
   "cell_type": "code",
   "execution_count": null,
   "metadata": {},
   "outputs": [],
   "source": []
  },
  {
   "cell_type": "code",
   "execution_count": null,
   "metadata": {
    "tags": []
   },
   "outputs": [],
   "source": [
    "df_assay_gcm_stat.to_csv('assay_gcm_cnts.csv', index=False)"
   ]
  },
  {
   "cell_type": "code",
   "execution_count": null,
   "metadata": {},
   "outputs": [],
   "source": [
    "df_assay_gcm_stat = pd.read_csv('assay_gcm_cnts.csv', low_memory=False)"
   ]
  },
  {
   "cell_type": "code",
   "execution_count": null,
   "metadata": {},
   "outputs": [],
   "source": []
  },
  {
   "cell_type": "code",
   "execution_count": null,
   "metadata": {},
   "outputs": [],
   "source": []
  },
  {
   "cell_type": "markdown",
   "metadata": {},
   "source": [
    "### Calculate p-values "
   ]
  },
  {
   "cell_type": "code",
   "execution_count": null,
   "metadata": {
    "tags": []
   },
   "outputs": [],
   "source": [
    "df_assay_gcm_stat['p_val'] = df_assay_gcm_stat.apply(\n",
    "    lambda r: fisher_exact([[r.num_actives, r.num_inactives], [r.bg_num_actives, r.bg_num_inactives]], alternative='greater')[1],\n",
    "    axis=1)"
   ]
  },
  {
   "cell_type": "code",
   "execution_count": null,
   "metadata": {
    "tags": []
   },
   "outputs": [],
   "source": [
    "df_assay_gcm_stat['adj_p_val'] = multipletests(df_assay_gcm_stat['p_val'], method='fdr_bh', is_sorted=False, returnsorted=False)[1]"
   ]
  },
  {
   "cell_type": "code",
   "execution_count": null,
   "metadata": {
    "tags": []
   },
   "outputs": [],
   "source": [
    "df_assay_gcm_stat[\"neg_log_adj_p_val\"] = df_assay_gcm_stat[\"adj_p_val\"].apply(lambda x: np.min([350, -np.log10(x)]))"
   ]
  },
  {
   "cell_type": "code",
   "execution_count": null,
   "metadata": {},
   "outputs": [],
   "source": []
  },
  {
   "cell_type": "markdown",
   "metadata": {},
   "source": [
    "### Upload stats to db"
   ]
  },
  {
   "cell_type": "code",
   "execution_count": null,
   "metadata": {
    "tags": []
   },
   "outputs": [],
   "source": [
    "conn.execute(\"\"\"DROP TABLE IF EXISTS gcm_cluster_assay_stat\"\"\")\n",
    "\n",
    "# create table with keys before and add via pandas\n",
    "conn.execute('''\n",
    "CREATE TABLE gcm_cluster_assay_stat(\n",
    "        aid INT,\n",
    "        activity_direction TEXT,\n",
    "        act_dir INT,\n",
    "        gcm_cluster INT,\n",
    "        cluster_size INT,\n",
    "        max_cpds_tested INT,\n",
    "        num_tested INT,\n",
    "        assay_qualified_for_profile TEXT,\n",
    "        num_actives INT,\n",
    "        num_inactives INT,\n",
    "        fract_actives REAL,\n",
    "        bg_num_actives INT,\n",
    "        bg_num_inactives INT,\n",
    "        p_val REAL,\n",
    "        adj_p_val REAL,\n",
    "        neg_log_adj_p_val REAL,\n",
    "        PRIMARY KEY(gcm_cluster, aid, act_dir)\n",
    "         );\n",
    "         ''')"
   ]
  },
  {
   "cell_type": "code",
   "execution_count": null,
   "metadata": {
    "tags": []
   },
   "outputs": [],
   "source": [
    "df_assay_gcm_stat.to_sql('gcm_cluster_assay_stat', conn, if_exists='append', index=False) "
   ]
  },
  {
   "cell_type": "code",
   "execution_count": null,
   "metadata": {
    "tags": []
   },
   "outputs": [],
   "source": [
    "conn.execute('''CREATE INDEX assay_stat_aid_act_dir_index ON gcm_cluster_assay_stat (aid, act_dir);''')"
   ]
  },
  {
   "cell_type": "code",
   "execution_count": null,
   "metadata": {},
   "outputs": [],
   "source": []
  },
  {
   "cell_type": "code",
   "execution_count": null,
   "metadata": {},
   "outputs": [],
   "source": []
  },
  {
   "cell_type": "code",
   "execution_count": null,
   "metadata": {
    "tags": []
   },
   "outputs": [],
   "source": [
    "conn.close()"
   ]
  },
  {
   "cell_type": "code",
   "execution_count": null,
   "metadata": {},
   "outputs": [],
   "source": []
  }
 ],
 "metadata": {
  "kernelspec": {
   "display_name": "PythonDS v1.2",
   "language": "python",
   "name": "py_v1.2"
  },
  "language_info": {
   "codemirror_mode": {
    "name": "ipython",
    "version": 3
   },
   "file_extension": ".py",
   "mimetype": "text/x-python",
   "name": "python",
   "nbconvert_exporter": "python",
   "pygments_lexer": "ipython3",
   "version": "3.8.15"
  }
 },
 "nbformat": 4,
 "nbformat_minor": 4
}
