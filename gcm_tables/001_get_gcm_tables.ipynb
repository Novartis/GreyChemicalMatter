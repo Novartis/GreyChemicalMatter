{
 "cells": [
  {
   "cell_type": "code",
   "execution_count": null,
   "metadata": {
    "tags": []
   },
   "outputs": [],
   "source": [
    "import sqlite3 \n",
    "import pandas as pd\n",
    "import glob\n",
    "import os"
   ]
  },
  {
   "cell_type": "code",
   "execution_count": null,
   "metadata": {
    "tags": []
   },
   "outputs": [],
   "source": [
    "conn = sqlite3.connect('../pubchem_gcm.db')"
   ]
  },
  {
   "cell_type": "code",
   "execution_count": null,
   "metadata": {},
   "outputs": [],
   "source": []
  },
  {
   "cell_type": "markdown",
   "metadata": {},
   "source": [
    "### Download GCM cluster summaries "
   ]
  },
  {
   "cell_type": "code",
   "execution_count": null,
   "metadata": {},
   "outputs": [],
   "source": [
    "df = pd.read_sql(\"\"\"\n",
    "\n",
    "    SELECT gcs.*\n",
    "    FROM gcm_cluster_summary gcs \n",
    "    WHERE gcs.gcm_conclusion = 'yes'\n",
    "\n",
    ";\"\"\", conn)"
   ]
  },
  {
   "cell_type": "code",
   "execution_count": null,
   "metadata": {},
   "outputs": [],
   "source": [
    "df.shape"
   ]
  },
  {
   "cell_type": "code",
   "execution_count": null,
   "metadata": {
    "tags": []
   },
   "outputs": [],
   "source": [
    "df.to_csv('gmc.gcm_cluster_summaries.csv', index=False)"
   ]
  },
  {
   "cell_type": "code",
   "execution_count": null,
   "metadata": {},
   "outputs": [],
   "source": []
  },
  {
   "cell_type": "markdown",
   "metadata": {},
   "source": [
    "### Download GCM cluster assay stats "
   ]
  },
  {
   "cell_type": "code",
   "execution_count": null,
   "metadata": {},
   "outputs": [],
   "source": [
    "df2 = pd.read_sql(\"\"\"\n",
    "\n",
    "    SELECT a.*, m.aidname, m.geneids\n",
    "    FROM gcm_cluster_assay_stat a\n",
    "    JOIN assay_meta m USING (aid)\n",
    "    JOIN gcm_cluster_summary gcs USING (gcm_cluster) \n",
    "    WHERE a.assay_qualified_for_profile = 'yes'\n",
    "    AND gcs.gcm_conclusion = 'yes'\n",
    "    \n",
    ";\"\"\", conn)"
   ]
  },
  {
   "cell_type": "code",
   "execution_count": null,
   "metadata": {},
   "outputs": [],
   "source": [
    "df2.shape"
   ]
  },
  {
   "cell_type": "code",
   "execution_count": null,
   "metadata": {
    "tags": []
   },
   "outputs": [],
   "source": [
    "df2.to_csv('gcm.gcm_cluster_assay_stat.csv', index=False)"
   ]
  },
  {
   "cell_type": "code",
   "execution_count": null,
   "metadata": {},
   "outputs": [],
   "source": []
  },
  {
   "cell_type": "markdown",
   "metadata": {
    "tags": []
   },
   "source": [
    "### Download cpds and profile scores from GCM clusters"
   ]
  },
  {
   "cell_type": "code",
   "execution_count": null,
   "metadata": {},
   "outputs": [],
   "source": [
    "df3 = pd.read_sql(\"\"\"\n",
    "\n",
    "    SELECT s.*\n",
    "    FROM gcm_cpds_scores s\n",
    "    JOIN gcm_cluster_summary gcs USING (gcm_cluster)\n",
    "    WHERE gcs.gcm_conclusion = 'yes'\n",
    "    --AND s.cpd_profile_score_rank = 1\n",
    "\n",
    ";\"\"\", conn)"
   ]
  },
  {
   "cell_type": "code",
   "execution_count": null,
   "metadata": {
    "tags": []
   },
   "outputs": [],
   "source": [
    "df3.shape"
   ]
  },
  {
   "cell_type": "code",
   "execution_count": null,
   "metadata": {
    "tags": []
   },
   "outputs": [],
   "source": [
    "df3['cpd_profile_score'] = df3['cpd_profile_score'].fillna(0)"
   ]
  },
  {
   "cell_type": "code",
   "execution_count": null,
   "metadata": {
    "tags": []
   },
   "outputs": [],
   "source": [
    "df3.to_csv('gcm.gcm_cpd_profile_scores.csv', index=False)"
   ]
  },
  {
   "cell_type": "code",
   "execution_count": null,
   "metadata": {},
   "outputs": [],
   "source": []
  },
  {
   "cell_type": "markdown",
   "metadata": {},
   "source": [
    "### Download assay metadata "
   ]
  },
  {
   "cell_type": "code",
   "execution_count": null,
   "metadata": {},
   "outputs": [],
   "source": [
    "df4 = pd.read_sql(\"\"\"\n",
    "\n",
    "    SELECT DISTINCT m.aid, m.aidname, m.aiddesc, m.geneids\n",
    "    FROM assay_meta m\n",
    "    JOIN gcm_cluster_assay_stat USING (aid)\n",
    "    JOIN gcm_cluster_summary gcs USING (gcm_cluster)\n",
    "    WHERE gcs.gcm_conclusion = 'yes'\n",
    "\n",
    ";\"\"\", conn)"
   ]
  },
  {
   "cell_type": "code",
   "execution_count": null,
   "metadata": {},
   "outputs": [],
   "source": [
    "df4.shape"
   ]
  },
  {
   "cell_type": "code",
   "execution_count": null,
   "metadata": {
    "tags": []
   },
   "outputs": [],
   "source": [
    "df4.to_csv('gcm.assay_meta.csv', index=False)"
   ]
  },
  {
   "cell_type": "code",
   "execution_count": null,
   "metadata": {},
   "outputs": [],
   "source": []
  },
  {
   "cell_type": "markdown",
   "metadata": {},
   "source": [
    "### Download cpd assay data of GCM cluster cpds"
   ]
  },
  {
   "cell_type": "code",
   "execution_count": null,
   "metadata": {
    "tags": []
   },
   "outputs": [],
   "source": [
    "df5 = pd.read_sql(\"\"\"\n",
    "\n",
    "    SELECT gcs.gcm_cluster, s.cid, ast.aid, a.rscore, a.pubchem_activity_score\n",
    "    FROM gcm_cpds_scores s\n",
    "    JOIN gcm_cluster_summary gcs USING (gcm_cluster)\n",
    "    JOIN gcm_cluster_assay_stat ast USING (gcm_cluster)\n",
    "    JOIN assays a ON(a.aid=ast.aid AND a.cid = s.cid)\n",
    "    WHERE ast.assay_qualified_for_profile = 'yes'\n",
    "    AND gcs.gcm_conclusion = 'yes'\n",
    "\n",
    ";\"\"\", conn)"
   ]
  },
  {
   "cell_type": "code",
   "execution_count": null,
   "metadata": {},
   "outputs": [],
   "source": [
    "df5.shape"
   ]
  },
  {
   "cell_type": "code",
   "execution_count": null,
   "metadata": {
    "tags": []
   },
   "outputs": [],
   "source": [
    "df5.to_csv('gcm.gcm_cpds_assay_activity.csv', index=False)"
   ]
  },
  {
   "cell_type": "code",
   "execution_count": null,
   "metadata": {},
   "outputs": [],
   "source": []
  }
 ],
 "metadata": {
  "kernelspec": {
   "display_name": "PythonDS v0.8 SR",
   "language": "python",
   "name": "pythonds_v0.8_sr"
  },
  "language_info": {
   "codemirror_mode": {
    "name": "ipython",
    "version": 3
   },
   "file_extension": ".py",
   "mimetype": "text/x-python",
   "name": "python",
   "nbconvert_exporter": "python",
   "pygments_lexer": "ipython3",
   "version": "3.7.7"
  }
 },
 "nbformat": 4,
 "nbformat_minor": 4
}
